{
 "cells": [
  {
   "attachments": {},
   "cell_type": "markdown",
   "metadata": {},
   "source": [
    "# Evaluación II - Módulo 2"
   ]
  },
  {
   "cell_type": "code",
   "execution_count": 1,
   "metadata": {},
   "outputs": [],
   "source": [
    "import pandas as pd\n",
    "import numpy as np\n",
    "import sidetable \n",
    "import requests\n",
    "from datetime import datetime, timedelta\n",
    "import mysql.connector\n",
    "from IPython.core.interactiveshell import InteractiveShell \n",
    "InteractiveShell.ast_node_interactivity = \"all\" \n",
    "from geopy.geocoders import Nominatim"
   ]
  },
  {
   "cell_type": "code",
   "execution_count": 2,
   "metadata": {},
   "outputs": [],
   "source": [
    "geolocator = Nominatim(user_agent=\"Esti\")"
   ]
  },
  {
   "cell_type": "code",
   "execution_count": 3,
   "metadata": {},
   "outputs": [],
   "source": [
    "pd.options.display.max_columns = None"
   ]
  },
  {
   "attachments": {},
   "cell_type": "markdown",
   "metadata": {},
   "source": [
    "1. Utilizando la API extraed toda la información que podáis de ella. La url para hacer las llamadas es:\n",
    "\n",
    "API_URL = \"http://universities.hipolabs.com/search?country=NOMBREPAIS\"\n",
    "\n",
    "Os deberá quedar un dataframe similar a este:"
   ]
  },
  {
   "cell_type": "code",
   "execution_count": 4,
   "metadata": {},
   "outputs": [
    {
     "name": "stdout",
     "output_type": "stream",
     "text": [
      "El código respuesta de la solicitud es 200, mensaje: OK\n"
     ]
    }
   ],
   "source": [
    "url_eeuu = \"http://universities.hipolabs.com/search?country=United States\"\n",
    "response_eeuu = requests.get(url = url_eeuu)\n",
    "\n",
    "print(f\"El código respuesta de la solicitud es {response_eeuu.status_code}, mensaje: {response_eeuu.reason}\")\n",
    "\n",
    "df_eeuu = pd.DataFrame(response_eeuu.json())"
   ]
  },
  {
   "cell_type": "code",
   "execution_count": 5,
   "metadata": {},
   "outputs": [
    {
     "name": "stdout",
     "output_type": "stream",
     "text": [
      "El código respuesta de la solicitud es 200, mensaje: OK\n"
     ]
    }
   ],
   "source": [
    "url_canada = \"http://universities.hipolabs.com/search?country=Canada\"\n",
    "response_canada = requests.get(url = url_canada)\n",
    "\n",
    "print(f\"El código respuesta de la solicitud es {response_canada.status_code}, mensaje: {response_canada.reason}\")\n",
    "\n",
    "df_canada = pd.DataFrame(response_canada.json())"
   ]
  },
  {
   "cell_type": "code",
   "execution_count": 6,
   "metadata": {},
   "outputs": [
    {
     "name": "stdout",
     "output_type": "stream",
     "text": [
      "El código respuesta de la solicitud es 200, mensaje: OK\n"
     ]
    }
   ],
   "source": [
    "url_argentina = \"http://universities.hipolabs.com/search?country=Argentina\"\n",
    "response_argentina = requests.get(url = url_argentina)\n",
    "\n",
    "print(f\"El código respuesta de la solicitud es {response_argentina.status_code}, mensaje: {response_argentina.reason}\")\n",
    "\n",
    "df_argentina = pd.DataFrame(response_argentina.json())"
   ]
  },
  {
   "cell_type": "code",
   "execution_count": 7,
   "metadata": {},
   "outputs": [
    {
     "data": {
      "text/html": [
       "<div>\n",
       "<style scoped>\n",
       "    .dataframe tbody tr th:only-of-type {\n",
       "        vertical-align: middle;\n",
       "    }\n",
       "\n",
       "    .dataframe tbody tr th {\n",
       "        vertical-align: top;\n",
       "    }\n",
       "\n",
       "    .dataframe thead th {\n",
       "        text-align: right;\n",
       "    }\n",
       "</style>\n",
       "<table border=\"1\" class=\"dataframe\">\n",
       "  <thead>\n",
       "    <tr style=\"text-align: right;\">\n",
       "      <th></th>\n",
       "      <th>state-province</th>\n",
       "      <th>domains</th>\n",
       "      <th>name</th>\n",
       "      <th>country</th>\n",
       "      <th>web_pages</th>\n",
       "      <th>alpha_two_code</th>\n",
       "    </tr>\n",
       "  </thead>\n",
       "  <tbody>\n",
       "    <tr>\n",
       "      <th>0</th>\n",
       "      <td>None</td>\n",
       "      <td>[marywood.edu]</td>\n",
       "      <td>Marywood University</td>\n",
       "      <td>United States</td>\n",
       "      <td>[http://www.marywood.edu]</td>\n",
       "      <td>US</td>\n",
       "    </tr>\n",
       "    <tr>\n",
       "      <th>1</th>\n",
       "      <td>None</td>\n",
       "      <td>[lindenwood.edu]</td>\n",
       "      <td>Lindenwood University</td>\n",
       "      <td>United States</td>\n",
       "      <td>[http://www.lindenwood.edu/]</td>\n",
       "      <td>US</td>\n",
       "    </tr>\n",
       "    <tr>\n",
       "      <th>2</th>\n",
       "      <td>None</td>\n",
       "      <td>[sullivan.edu]</td>\n",
       "      <td>Sullivan University</td>\n",
       "      <td>United States</td>\n",
       "      <td>[https://sullivan.edu/]</td>\n",
       "      <td>US</td>\n",
       "    </tr>\n",
       "    <tr>\n",
       "      <th>3</th>\n",
       "      <td>None</td>\n",
       "      <td>[fscj.edu]</td>\n",
       "      <td>Florida State College at Jacksonville</td>\n",
       "      <td>United States</td>\n",
       "      <td>[https://www.fscj.edu/]</td>\n",
       "      <td>US</td>\n",
       "    </tr>\n",
       "    <tr>\n",
       "      <th>4</th>\n",
       "      <td>None</td>\n",
       "      <td>[xavier.edu]</td>\n",
       "      <td>Xavier University</td>\n",
       "      <td>United States</td>\n",
       "      <td>[https://www.xavier.edu/]</td>\n",
       "      <td>US</td>\n",
       "    </tr>\n",
       "  </tbody>\n",
       "</table>\n",
       "</div>"
      ],
      "text/plain": [
       "  state-province           domains                                   name  \\\n",
       "0           None    [marywood.edu]                    Marywood University   \n",
       "1           None  [lindenwood.edu]                  Lindenwood University   \n",
       "2           None    [sullivan.edu]                    Sullivan University   \n",
       "3           None        [fscj.edu]  Florida State College at Jacksonville   \n",
       "4           None      [xavier.edu]                      Xavier University   \n",
       "\n",
       "         country                     web_pages alpha_two_code  \n",
       "0  United States     [http://www.marywood.edu]             US  \n",
       "1  United States  [http://www.lindenwood.edu/]             US  \n",
       "2  United States       [https://sullivan.edu/]             US  \n",
       "3  United States       [https://www.fscj.edu/]             US  \n",
       "4  United States     [https://www.xavier.edu/]             US  "
      ]
     },
     "execution_count": 7,
     "metadata": {},
     "output_type": "execute_result"
    }
   ],
   "source": [
    "df_eeuu.head()"
   ]
  },
  {
   "cell_type": "code",
   "execution_count": 8,
   "metadata": {},
   "outputs": [
    {
     "data": {
      "text/html": [
       "<div>\n",
       "<style scoped>\n",
       "    .dataframe tbody tr th:only-of-type {\n",
       "        vertical-align: middle;\n",
       "    }\n",
       "\n",
       "    .dataframe tbody tr th {\n",
       "        vertical-align: top;\n",
       "    }\n",
       "\n",
       "    .dataframe thead th {\n",
       "        text-align: right;\n",
       "    }\n",
       "</style>\n",
       "<table border=\"1\" class=\"dataframe\">\n",
       "  <thead>\n",
       "    <tr style=\"text-align: right;\">\n",
       "      <th></th>\n",
       "      <th>state-province</th>\n",
       "      <th>domains</th>\n",
       "      <th>name</th>\n",
       "      <th>country</th>\n",
       "      <th>web_pages</th>\n",
       "      <th>alpha_two_code</th>\n",
       "    </tr>\n",
       "  </thead>\n",
       "  <tbody>\n",
       "    <tr>\n",
       "      <th>0</th>\n",
       "      <td>Buenos Aires</td>\n",
       "      <td>[atlantida.edu.ar]</td>\n",
       "      <td>Universidad Atlantida Argentina</td>\n",
       "      <td>Argentina</td>\n",
       "      <td>[http://www.atlantida.edu.ar/]</td>\n",
       "      <td>AR</td>\n",
       "    </tr>\n",
       "    <tr>\n",
       "      <th>1</th>\n",
       "      <td>Buenos Aires</td>\n",
       "      <td>[austral.edu.ar]</td>\n",
       "      <td>Universidad Austral Buenos Aires</td>\n",
       "      <td>Argentina</td>\n",
       "      <td>[http://www.austral.edu.ar/]</td>\n",
       "      <td>AR</td>\n",
       "    </tr>\n",
       "    <tr>\n",
       "      <th>2</th>\n",
       "      <td>Ciudad Autónoma de Buenos Aires</td>\n",
       "      <td>[caece.edu.ar]</td>\n",
       "      <td>Universidad CAECE, Buenos Aires</td>\n",
       "      <td>Argentina</td>\n",
       "      <td>[http://www.caece.edu.ar/]</td>\n",
       "      <td>AR</td>\n",
       "    </tr>\n",
       "    <tr>\n",
       "      <th>3</th>\n",
       "      <td>Ciudad Autónoma de Buenos Aires</td>\n",
       "      <td>[cema.edu.ar]</td>\n",
       "      <td>Instituto Universitario CEMA</td>\n",
       "      <td>Argentina</td>\n",
       "      <td>[http://www.cema.edu.ar/]</td>\n",
       "      <td>AR</td>\n",
       "    </tr>\n",
       "    <tr>\n",
       "      <th>4</th>\n",
       "      <td>Ciudad Autónoma de Buenos Aires</td>\n",
       "      <td>[iese.edu.ar]</td>\n",
       "      <td>Instituto de Enseñanza Superior del Ejército</td>\n",
       "      <td>Argentina</td>\n",
       "      <td>[http://www.iese.edu.ar/]</td>\n",
       "      <td>AR</td>\n",
       "    </tr>\n",
       "  </tbody>\n",
       "</table>\n",
       "</div>"
      ],
      "text/plain": [
       "                    state-province             domains  \\\n",
       "0                     Buenos Aires  [atlantida.edu.ar]   \n",
       "1                     Buenos Aires    [austral.edu.ar]   \n",
       "2  Ciudad Autónoma de Buenos Aires      [caece.edu.ar]   \n",
       "3  Ciudad Autónoma de Buenos Aires       [cema.edu.ar]   \n",
       "4  Ciudad Autónoma de Buenos Aires       [iese.edu.ar]   \n",
       "\n",
       "                                           name    country  \\\n",
       "0               Universidad Atlantida Argentina  Argentina   \n",
       "1              Universidad Austral Buenos Aires  Argentina   \n",
       "2               Universidad CAECE, Buenos Aires  Argentina   \n",
       "3                  Instituto Universitario CEMA  Argentina   \n",
       "4  Instituto de Enseñanza Superior del Ejército  Argentina   \n",
       "\n",
       "                        web_pages alpha_two_code  \n",
       "0  [http://www.atlantida.edu.ar/]             AR  \n",
       "1    [http://www.austral.edu.ar/]             AR  \n",
       "2      [http://www.caece.edu.ar/]             AR  \n",
       "3       [http://www.cema.edu.ar/]             AR  \n",
       "4       [http://www.iese.edu.ar/]             AR  "
      ]
     },
     "execution_count": 8,
     "metadata": {},
     "output_type": "execute_result"
    }
   ],
   "source": [
    "df_argentina.head()"
   ]
  },
  {
   "cell_type": "code",
   "execution_count": 9,
   "metadata": {},
   "outputs": [
    {
     "data": {
      "text/html": [
       "<div>\n",
       "<style scoped>\n",
       "    .dataframe tbody tr th:only-of-type {\n",
       "        vertical-align: middle;\n",
       "    }\n",
       "\n",
       "    .dataframe tbody tr th {\n",
       "        vertical-align: top;\n",
       "    }\n",
       "\n",
       "    .dataframe thead th {\n",
       "        text-align: right;\n",
       "    }\n",
       "</style>\n",
       "<table border=\"1\" class=\"dataframe\">\n",
       "  <thead>\n",
       "    <tr style=\"text-align: right;\">\n",
       "      <th></th>\n",
       "      <th>state-province</th>\n",
       "      <th>domains</th>\n",
       "      <th>name</th>\n",
       "      <th>country</th>\n",
       "      <th>web_pages</th>\n",
       "      <th>alpha_two_code</th>\n",
       "    </tr>\n",
       "  </thead>\n",
       "  <tbody>\n",
       "    <tr>\n",
       "      <th>0</th>\n",
       "      <td>Buenos Aires</td>\n",
       "      <td>[atlantida.edu.ar]</td>\n",
       "      <td>Universidad Atlantida Argentina</td>\n",
       "      <td>Argentina</td>\n",
       "      <td>[http://www.atlantida.edu.ar/]</td>\n",
       "      <td>AR</td>\n",
       "    </tr>\n",
       "    <tr>\n",
       "      <th>1</th>\n",
       "      <td>Buenos Aires</td>\n",
       "      <td>[austral.edu.ar]</td>\n",
       "      <td>Universidad Austral Buenos Aires</td>\n",
       "      <td>Argentina</td>\n",
       "      <td>[http://www.austral.edu.ar/]</td>\n",
       "      <td>AR</td>\n",
       "    </tr>\n",
       "    <tr>\n",
       "      <th>2</th>\n",
       "      <td>Ciudad Autónoma de Buenos Aires</td>\n",
       "      <td>[caece.edu.ar]</td>\n",
       "      <td>Universidad CAECE, Buenos Aires</td>\n",
       "      <td>Argentina</td>\n",
       "      <td>[http://www.caece.edu.ar/]</td>\n",
       "      <td>AR</td>\n",
       "    </tr>\n",
       "    <tr>\n",
       "      <th>3</th>\n",
       "      <td>Ciudad Autónoma de Buenos Aires</td>\n",
       "      <td>[cema.edu.ar]</td>\n",
       "      <td>Instituto Universitario CEMA</td>\n",
       "      <td>Argentina</td>\n",
       "      <td>[http://www.cema.edu.ar/]</td>\n",
       "      <td>AR</td>\n",
       "    </tr>\n",
       "    <tr>\n",
       "      <th>4</th>\n",
       "      <td>Ciudad Autónoma de Buenos Aires</td>\n",
       "      <td>[iese.edu.ar]</td>\n",
       "      <td>Instituto de Enseñanza Superior del Ejército</td>\n",
       "      <td>Argentina</td>\n",
       "      <td>[http://www.iese.edu.ar/]</td>\n",
       "      <td>AR</td>\n",
       "    </tr>\n",
       "  </tbody>\n",
       "</table>\n",
       "</div>"
      ],
      "text/plain": [
       "                    state-province             domains  \\\n",
       "0                     Buenos Aires  [atlantida.edu.ar]   \n",
       "1                     Buenos Aires    [austral.edu.ar]   \n",
       "2  Ciudad Autónoma de Buenos Aires      [caece.edu.ar]   \n",
       "3  Ciudad Autónoma de Buenos Aires       [cema.edu.ar]   \n",
       "4  Ciudad Autónoma de Buenos Aires       [iese.edu.ar]   \n",
       "\n",
       "                                           name    country  \\\n",
       "0               Universidad Atlantida Argentina  Argentina   \n",
       "1              Universidad Austral Buenos Aires  Argentina   \n",
       "2               Universidad CAECE, Buenos Aires  Argentina   \n",
       "3                  Instituto Universitario CEMA  Argentina   \n",
       "4  Instituto de Enseñanza Superior del Ejército  Argentina   \n",
       "\n",
       "                        web_pages alpha_two_code  \n",
       "0  [http://www.atlantida.edu.ar/]             AR  \n",
       "1    [http://www.austral.edu.ar/]             AR  \n",
       "2      [http://www.caece.edu.ar/]             AR  \n",
       "3       [http://www.cema.edu.ar/]             AR  \n",
       "4       [http://www.iese.edu.ar/]             AR  "
      ]
     },
     "execution_count": 9,
     "metadata": {},
     "output_type": "execute_result"
    }
   ],
   "source": [
    "df_argentina.head()"
   ]
  },
  {
   "attachments": {},
   "cell_type": "markdown",
   "metadata": {},
   "source": [
    "2. Una vez tengáis todos los datos de la API, deberéis realizar una serie de procesos de limpieza, estos incluyen:\n",
    "\n",
    "- Cambiad los nombres de las columnas para homogeneizarlas, tenemos columnas que tienen - y otras _. Unifícalo para que todo vaya con _."
   ]
  },
  {
   "cell_type": "code",
   "execution_count": 10,
   "metadata": {},
   "outputs": [
    {
     "data": {
      "text/html": [
       "<div>\n",
       "<style scoped>\n",
       "    .dataframe tbody tr th:only-of-type {\n",
       "        vertical-align: middle;\n",
       "    }\n",
       "\n",
       "    .dataframe tbody tr th {\n",
       "        vertical-align: top;\n",
       "    }\n",
       "\n",
       "    .dataframe thead th {\n",
       "        text-align: right;\n",
       "    }\n",
       "</style>\n",
       "<table border=\"1\" class=\"dataframe\">\n",
       "  <thead>\n",
       "    <tr style=\"text-align: right;\">\n",
       "      <th></th>\n",
       "      <th>state_province</th>\n",
       "      <th>domains</th>\n",
       "      <th>name</th>\n",
       "      <th>country</th>\n",
       "      <th>web_pages</th>\n",
       "      <th>alpha_two_code</th>\n",
       "    </tr>\n",
       "  </thead>\n",
       "  <tbody>\n",
       "    <tr>\n",
       "      <th>0</th>\n",
       "      <td>None</td>\n",
       "      <td>[marywood.edu]</td>\n",
       "      <td>Marywood University</td>\n",
       "      <td>United States</td>\n",
       "      <td>[http://www.marywood.edu]</td>\n",
       "      <td>US</td>\n",
       "    </tr>\n",
       "  </tbody>\n",
       "</table>\n",
       "</div>"
      ],
      "text/plain": [
       "  state_province         domains                 name        country  \\\n",
       "0           None  [marywood.edu]  Marywood University  United States   \n",
       "\n",
       "                   web_pages alpha_two_code  \n",
       "0  [http://www.marywood.edu]             US  "
      ]
     },
     "metadata": {},
     "output_type": "display_data"
    }
   ],
   "source": [
    "nuevas_columnas = {col: col.lower().replace('-', '_') for col in df_eeuu.columns}\n",
    "\n",
    "df_eeuu.rename(columns= nuevas_columnas, inplace= True)\n",
    "\n",
    "display(df_eeuu.head(1))"
   ]
  },
  {
   "cell_type": "code",
   "execution_count": 11,
   "metadata": {},
   "outputs": [
    {
     "data": {
      "text/html": [
       "<div>\n",
       "<style scoped>\n",
       "    .dataframe tbody tr th:only-of-type {\n",
       "        vertical-align: middle;\n",
       "    }\n",
       "\n",
       "    .dataframe tbody tr th {\n",
       "        vertical-align: top;\n",
       "    }\n",
       "\n",
       "    .dataframe thead th {\n",
       "        text-align: right;\n",
       "    }\n",
       "</style>\n",
       "<table border=\"1\" class=\"dataframe\">\n",
       "  <thead>\n",
       "    <tr style=\"text-align: right;\">\n",
       "      <th></th>\n",
       "      <th>state_province</th>\n",
       "      <th>domains</th>\n",
       "      <th>name</th>\n",
       "      <th>country</th>\n",
       "      <th>web_pages</th>\n",
       "      <th>alpha_two_code</th>\n",
       "    </tr>\n",
       "  </thead>\n",
       "  <tbody>\n",
       "    <tr>\n",
       "      <th>0</th>\n",
       "      <td>Quebec</td>\n",
       "      <td>[cstj.qc.ca]</td>\n",
       "      <td>Cégep de Saint-Jérôme</td>\n",
       "      <td>Canada</td>\n",
       "      <td>[https://www.cstj.qc.ca, https://ccmt.cstj.qc....</td>\n",
       "      <td>CA</td>\n",
       "    </tr>\n",
       "  </tbody>\n",
       "</table>\n",
       "</div>"
      ],
      "text/plain": [
       "  state_province       domains                   name country  \\\n",
       "0         Quebec  [cstj.qc.ca]  Cégep de Saint-Jérôme  Canada   \n",
       "\n",
       "                                           web_pages alpha_two_code  \n",
       "0  [https://www.cstj.qc.ca, https://ccmt.cstj.qc....             CA  "
      ]
     },
     "metadata": {},
     "output_type": "display_data"
    }
   ],
   "source": [
    "nuevas_columnas = {col: col.lower().replace('-', '_') for col in df_canada.columns}\n",
    "\n",
    "df_canada.rename(columns= nuevas_columnas, inplace= True)\n",
    "\n",
    "display(df_canada.head(1))"
   ]
  },
  {
   "cell_type": "code",
   "execution_count": 12,
   "metadata": {},
   "outputs": [
    {
     "data": {
      "text/html": [
       "<div>\n",
       "<style scoped>\n",
       "    .dataframe tbody tr th:only-of-type {\n",
       "        vertical-align: middle;\n",
       "    }\n",
       "\n",
       "    .dataframe tbody tr th {\n",
       "        vertical-align: top;\n",
       "    }\n",
       "\n",
       "    .dataframe thead th {\n",
       "        text-align: right;\n",
       "    }\n",
       "</style>\n",
       "<table border=\"1\" class=\"dataframe\">\n",
       "  <thead>\n",
       "    <tr style=\"text-align: right;\">\n",
       "      <th></th>\n",
       "      <th>state_province</th>\n",
       "      <th>domains</th>\n",
       "      <th>name</th>\n",
       "      <th>country</th>\n",
       "      <th>web_pages</th>\n",
       "      <th>alpha_two_code</th>\n",
       "    </tr>\n",
       "  </thead>\n",
       "  <tbody>\n",
       "    <tr>\n",
       "      <th>0</th>\n",
       "      <td>Buenos Aires</td>\n",
       "      <td>[atlantida.edu.ar]</td>\n",
       "      <td>Universidad Atlantida Argentina</td>\n",
       "      <td>Argentina</td>\n",
       "      <td>[http://www.atlantida.edu.ar/]</td>\n",
       "      <td>AR</td>\n",
       "    </tr>\n",
       "  </tbody>\n",
       "</table>\n",
       "</div>"
      ],
      "text/plain": [
       "  state_province             domains                             name  \\\n",
       "0   Buenos Aires  [atlantida.edu.ar]  Universidad Atlantida Argentina   \n",
       "\n",
       "     country                       web_pages alpha_two_code  \n",
       "0  Argentina  [http://www.atlantida.edu.ar/]             AR  "
      ]
     },
     "metadata": {},
     "output_type": "display_data"
    }
   ],
   "source": [
    "nuevas_columnas = {col: col.lower().replace('-', '_') for col in df_argentina.columns}\n",
    "\n",
    "df_argentina.rename(columns= nuevas_columnas, inplace= True)\n",
    "\n",
    "display(df_argentina.head(1))"
   ]
  },
  {
   "attachments": {},
   "cell_type": "markdown",
   "metadata": {},
   "source": [
    "- La columna de domains nos da una información similar a la de web_pages. Eliminad la columna domains."
   ]
  },
  {
   "cell_type": "code",
   "execution_count": 13,
   "metadata": {},
   "outputs": [
    {
     "data": {
      "text/html": [
       "<div>\n",
       "<style scoped>\n",
       "    .dataframe tbody tr th:only-of-type {\n",
       "        vertical-align: middle;\n",
       "    }\n",
       "\n",
       "    .dataframe tbody tr th {\n",
       "        vertical-align: top;\n",
       "    }\n",
       "\n",
       "    .dataframe thead th {\n",
       "        text-align: right;\n",
       "    }\n",
       "</style>\n",
       "<table border=\"1\" class=\"dataframe\">\n",
       "  <thead>\n",
       "    <tr style=\"text-align: right;\">\n",
       "      <th></th>\n",
       "      <th>state_province</th>\n",
       "      <th>name</th>\n",
       "      <th>country</th>\n",
       "      <th>web_pages</th>\n",
       "      <th>alpha_two_code</th>\n",
       "    </tr>\n",
       "  </thead>\n",
       "  <tbody>\n",
       "    <tr>\n",
       "      <th>0</th>\n",
       "      <td>None</td>\n",
       "      <td>Marywood University</td>\n",
       "      <td>United States</td>\n",
       "      <td>[http://www.marywood.edu]</td>\n",
       "      <td>US</td>\n",
       "    </tr>\n",
       "  </tbody>\n",
       "</table>\n",
       "</div>"
      ],
      "text/plain": [
       "  state_province                 name        country  \\\n",
       "0           None  Marywood University  United States   \n",
       "\n",
       "                   web_pages alpha_two_code  \n",
       "0  [http://www.marywood.edu]             US  "
      ]
     },
     "metadata": {},
     "output_type": "display_data"
    }
   ],
   "source": [
    "df_eeuu.drop(['domains'], axis= 1, inplace= True)\n",
    "display(df_eeuu.head(1))"
   ]
  },
  {
   "cell_type": "code",
   "execution_count": 14,
   "metadata": {},
   "outputs": [
    {
     "data": {
      "text/html": [
       "<div>\n",
       "<style scoped>\n",
       "    .dataframe tbody tr th:only-of-type {\n",
       "        vertical-align: middle;\n",
       "    }\n",
       "\n",
       "    .dataframe tbody tr th {\n",
       "        vertical-align: top;\n",
       "    }\n",
       "\n",
       "    .dataframe thead th {\n",
       "        text-align: right;\n",
       "    }\n",
       "</style>\n",
       "<table border=\"1\" class=\"dataframe\">\n",
       "  <thead>\n",
       "    <tr style=\"text-align: right;\">\n",
       "      <th></th>\n",
       "      <th>state_province</th>\n",
       "      <th>name</th>\n",
       "      <th>country</th>\n",
       "      <th>web_pages</th>\n",
       "      <th>alpha_two_code</th>\n",
       "    </tr>\n",
       "  </thead>\n",
       "  <tbody>\n",
       "    <tr>\n",
       "      <th>0</th>\n",
       "      <td>Quebec</td>\n",
       "      <td>Cégep de Saint-Jérôme</td>\n",
       "      <td>Canada</td>\n",
       "      <td>[https://www.cstj.qc.ca, https://ccmt.cstj.qc....</td>\n",
       "      <td>CA</td>\n",
       "    </tr>\n",
       "  </tbody>\n",
       "</table>\n",
       "</div>"
      ],
      "text/plain": [
       "  state_province                   name country  \\\n",
       "0         Quebec  Cégep de Saint-Jérôme  Canada   \n",
       "\n",
       "                                           web_pages alpha_two_code  \n",
       "0  [https://www.cstj.qc.ca, https://ccmt.cstj.qc....             CA  "
      ]
     },
     "metadata": {},
     "output_type": "display_data"
    }
   ],
   "source": [
    "df_canada.drop(['domains'], axis= 1, inplace= True)\n",
    "display(df_canada.head(1))"
   ]
  },
  {
   "cell_type": "code",
   "execution_count": 15,
   "metadata": {},
   "outputs": [
    {
     "data": {
      "text/html": [
       "<div>\n",
       "<style scoped>\n",
       "    .dataframe tbody tr th:only-of-type {\n",
       "        vertical-align: middle;\n",
       "    }\n",
       "\n",
       "    .dataframe tbody tr th {\n",
       "        vertical-align: top;\n",
       "    }\n",
       "\n",
       "    .dataframe thead th {\n",
       "        text-align: right;\n",
       "    }\n",
       "</style>\n",
       "<table border=\"1\" class=\"dataframe\">\n",
       "  <thead>\n",
       "    <tr style=\"text-align: right;\">\n",
       "      <th></th>\n",
       "      <th>state_province</th>\n",
       "      <th>name</th>\n",
       "      <th>country</th>\n",
       "      <th>web_pages</th>\n",
       "      <th>alpha_two_code</th>\n",
       "    </tr>\n",
       "  </thead>\n",
       "  <tbody>\n",
       "    <tr>\n",
       "      <th>0</th>\n",
       "      <td>Buenos Aires</td>\n",
       "      <td>Universidad Atlantida Argentina</td>\n",
       "      <td>Argentina</td>\n",
       "      <td>[http://www.atlantida.edu.ar/]</td>\n",
       "      <td>AR</td>\n",
       "    </tr>\n",
       "  </tbody>\n",
       "</table>\n",
       "</div>"
      ],
      "text/plain": [
       "  state_province                             name    country  \\\n",
       "0   Buenos Aires  Universidad Atlantida Argentina  Argentina   \n",
       "\n",
       "                        web_pages alpha_two_code  \n",
       "0  [http://www.atlantida.edu.ar/]             AR  "
      ]
     },
     "metadata": {},
     "output_type": "display_data"
    }
   ],
   "source": [
    "df_argentina.drop(['domains'], axis= 1, inplace= True)\n",
    "display(df_argentina.head(1))"
   ]
  },
  {
   "attachments": {},
   "cell_type": "markdown",
   "metadata": {},
   "source": [
    "3. Si exploramos la columna de web_pages, nos daremos cuenta que hay universidades, como por ejemplo la Universidad de \"Cégep de Saint-Jérôme\" de Canadá que en su columna de web_pages tiene más de un valor dentro de la lista. \n",
    "\n",
    "Esto es poco práctico y puede llegar a no tener sentido. el objetivo de este ejericio es que usando el método explode de pandas separéis cada elemento de la lista en una fila nueva. Aquí tenéis la documentación de este método.\n",
    "\n",
    "Al final os quedará una tabla similar a la siguiente:"
   ]
  },
  {
   "cell_type": "code",
   "execution_count": 16,
   "metadata": {},
   "outputs": [
    {
     "data": {
      "text/html": [
       "<div>\n",
       "<style scoped>\n",
       "    .dataframe tbody tr th:only-of-type {\n",
       "        vertical-align: middle;\n",
       "    }\n",
       "\n",
       "    .dataframe tbody tr th {\n",
       "        vertical-align: top;\n",
       "    }\n",
       "\n",
       "    .dataframe thead th {\n",
       "        text-align: right;\n",
       "    }\n",
       "</style>\n",
       "<table border=\"1\" class=\"dataframe\">\n",
       "  <thead>\n",
       "    <tr style=\"text-align: right;\">\n",
       "      <th></th>\n",
       "      <th>state_province</th>\n",
       "      <th>name</th>\n",
       "      <th>country</th>\n",
       "      <th>web_pages</th>\n",
       "      <th>alpha_two_code</th>\n",
       "    </tr>\n",
       "  </thead>\n",
       "  <tbody>\n",
       "    <tr>\n",
       "      <th>0</th>\n",
       "      <td>None</td>\n",
       "      <td>Marywood University</td>\n",
       "      <td>United States</td>\n",
       "      <td>http://www.marywood.edu</td>\n",
       "      <td>US</td>\n",
       "    </tr>\n",
       "  </tbody>\n",
       "</table>\n",
       "</div>"
      ],
      "text/plain": [
       "  state_province                 name        country                web_pages  \\\n",
       "0           None  Marywood University  United States  http://www.marywood.edu   \n",
       "\n",
       "  alpha_two_code  \n",
       "0             US  "
      ]
     },
     "metadata": {},
     "output_type": "display_data"
    },
    {
     "data": {
      "text/html": [
       "<div>\n",
       "<style scoped>\n",
       "    .dataframe tbody tr th:only-of-type {\n",
       "        vertical-align: middle;\n",
       "    }\n",
       "\n",
       "    .dataframe tbody tr th {\n",
       "        vertical-align: top;\n",
       "    }\n",
       "\n",
       "    .dataframe thead th {\n",
       "        text-align: right;\n",
       "    }\n",
       "</style>\n",
       "<table border=\"1\" class=\"dataframe\">\n",
       "  <thead>\n",
       "    <tr style=\"text-align: right;\">\n",
       "      <th></th>\n",
       "      <th>state_province</th>\n",
       "      <th>name</th>\n",
       "      <th>country</th>\n",
       "      <th>web_pages</th>\n",
       "      <th>alpha_two_code</th>\n",
       "    </tr>\n",
       "  </thead>\n",
       "  <tbody>\n",
       "    <tr>\n",
       "      <th>0</th>\n",
       "      <td>Quebec</td>\n",
       "      <td>Cégep de Saint-Jérôme</td>\n",
       "      <td>Canada</td>\n",
       "      <td>https://www.cstj.qc.ca</td>\n",
       "      <td>CA</td>\n",
       "    </tr>\n",
       "  </tbody>\n",
       "</table>\n",
       "</div>"
      ],
      "text/plain": [
       "  state_province                   name country               web_pages  \\\n",
       "0         Quebec  Cégep de Saint-Jérôme  Canada  https://www.cstj.qc.ca   \n",
       "\n",
       "  alpha_two_code  \n",
       "0             CA  "
      ]
     },
     "metadata": {},
     "output_type": "display_data"
    },
    {
     "data": {
      "text/html": [
       "<div>\n",
       "<style scoped>\n",
       "    .dataframe tbody tr th:only-of-type {\n",
       "        vertical-align: middle;\n",
       "    }\n",
       "\n",
       "    .dataframe tbody tr th {\n",
       "        vertical-align: top;\n",
       "    }\n",
       "\n",
       "    .dataframe thead th {\n",
       "        text-align: right;\n",
       "    }\n",
       "</style>\n",
       "<table border=\"1\" class=\"dataframe\">\n",
       "  <thead>\n",
       "    <tr style=\"text-align: right;\">\n",
       "      <th></th>\n",
       "      <th>state_province</th>\n",
       "      <th>name</th>\n",
       "      <th>country</th>\n",
       "      <th>web_pages</th>\n",
       "      <th>alpha_two_code</th>\n",
       "    </tr>\n",
       "  </thead>\n",
       "  <tbody>\n",
       "    <tr>\n",
       "      <th>0</th>\n",
       "      <td>Buenos Aires</td>\n",
       "      <td>Universidad Atlantida Argentina</td>\n",
       "      <td>Argentina</td>\n",
       "      <td>http://www.atlantida.edu.ar/</td>\n",
       "      <td>AR</td>\n",
       "    </tr>\n",
       "  </tbody>\n",
       "</table>\n",
       "</div>"
      ],
      "text/plain": [
       "  state_province                             name    country  \\\n",
       "0   Buenos Aires  Universidad Atlantida Argentina  Argentina   \n",
       "\n",
       "                      web_pages alpha_two_code  \n",
       "0  http://www.atlantida.edu.ar/             AR  "
      ]
     },
     "metadata": {},
     "output_type": "display_data"
    }
   ],
   "source": [
    "#This routine will explode list-likes including lists, tuples, sets, Series, and np.ndarray. The result dtype of the subset rows will be object. \n",
    "\n",
    "df_eeuu = df_eeuu.explode('web_pages')\n",
    "display(df_eeuu.head(1))\n",
    "\n",
    "df_canada = df_canada.explode('web_pages')\n",
    "display(df_canada.head(1))\n",
    "\n",
    "df_argentina = df_argentina.explode('web_pages')\n",
    "display(df_argentina.head(1))"
   ]
  },
  {
   "attachments": {},
   "cell_type": "markdown",
   "metadata": {},
   "source": [
    "4. Una vez hayáis realizado el explode, chequead si tenéis duplicados basándonos unicamente en el nombre de la universidad, en caso de que si, eliminandlos."
   ]
  },
  {
   "cell_type": "code",
   "execution_count": 17,
   "metadata": {},
   "outputs": [
    {
     "name": "stdout",
     "output_type": "stream",
     "text": [
      "En el df EEUU tenemos 20 duplicados\n",
      "En el df Canadá tenemos 4 duplicados\n",
      "En el df Argentina tenemos  0 duplicados\n"
     ]
    }
   ],
   "source": [
    "print(f\"En el df EEUU tenemos {df_eeuu.duplicated(['name']).sum()} duplicados\")\n",
    "\n",
    "print(f\"En el df Canadá tenemos {df_canada.duplicated(['name']).sum()} duplicados\")\n",
    "\n",
    "print(f\"En el df Argentina tenemos  {df_argentina.duplicated(['name']).sum()} duplicados\")"
   ]
  },
  {
   "cell_type": "code",
   "execution_count": 37,
   "metadata": {},
   "outputs": [],
   "source": [
    "#dos formas\n",
    "\n",
    "df_canada.drop_duplicates([\"name\"], inplace = True)\n",
    "\n",
    "df_eeuu.drop_duplicates(subset=\"name\", inplace = True)"
   ]
  },
  {
   "cell_type": "code",
   "execution_count": 19,
   "metadata": {},
   "outputs": [
    {
     "name": "stdout",
     "output_type": "stream",
     "text": [
      "En el df EEUU tenemos 0 duplicados\n",
      "En el df Canadá tenemos 0 duplicados\n"
     ]
    }
   ],
   "source": [
    "# comprobación\n",
    "\n",
    "print(f\"En el df EEUU tenemos {df_eeuu.duplicated(['name']).sum()} duplicados\")\n",
    "\n",
    "print(f\"En el df Canadá tenemos {df_canada.duplicated(['name']).sum()} duplicados\")"
   ]
  },
  {
   "attachments": {},
   "cell_type": "markdown",
   "metadata": {},
   "source": [
    "5. Si exploramos la columna de state_province veremos que hay universidades cuyo valor para esta columna es None. \n",
    "\n",
    "Cread una función para reemplazar los None por nulos de numpy."
   ]
  },
  {
   "cell_type": "code",
   "execution_count": 20,
   "metadata": {},
   "outputs": [],
   "source": [
    "#df[df['state_province'].values == None]  #chequeamos los nones\n"
   ]
  },
  {
   "cell_type": "code",
   "execution_count": 21,
   "metadata": {},
   "outputs": [
    {
     "data": {
      "text/plain": [
       "'En el df EEUU tenemos 2208 nulos.'"
      ]
     },
     "metadata": {},
     "output_type": "display_data"
    },
    {
     "data": {
      "text/plain": [
       "'En el df Canadá tenemos 8 nulos.'"
      ]
     },
     "metadata": {},
     "output_type": "display_data"
    },
    {
     "data": {
      "text/plain": [
       "'En el df Canadá tenemos 22 nulos.'"
      ]
     },
     "metadata": {},
     "output_type": "display_data"
    }
   ],
   "source": [
    "display(f\"En el df EEUU tenemos {df_eeuu['state_province'].isnull().sum()} nulos.\")\n",
    "\n",
    "display(f\"En el df Canadá tenemos {df_canada['state_province'].isnull().sum()} nulos.\")\n",
    "\n",
    "display(f\"En el df Canadá tenemos {df_argentina['state_province'].isnull().sum()} nulos.\")"
   ]
  },
  {
   "cell_type": "code",
   "execution_count": 22,
   "metadata": {},
   "outputs": [],
   "source": [
    "def reemplazar_nones (df):\n",
    "\n",
    "    for col in df:\n",
    "\n",
    "        df[col] = df[col].fillna(np.nan)\n",
    "\n",
    "    return df"
   ]
  },
  {
   "cell_type": "code",
   "execution_count": 23,
   "metadata": {},
   "outputs": [
    {
     "data": {
      "text/html": [
       "<div>\n",
       "<style scoped>\n",
       "    .dataframe tbody tr th:only-of-type {\n",
       "        vertical-align: middle;\n",
       "    }\n",
       "\n",
       "    .dataframe tbody tr th {\n",
       "        vertical-align: top;\n",
       "    }\n",
       "\n",
       "    .dataframe thead th {\n",
       "        text-align: right;\n",
       "    }\n",
       "</style>\n",
       "<table border=\"1\" class=\"dataframe\">\n",
       "  <thead>\n",
       "    <tr style=\"text-align: right;\">\n",
       "      <th></th>\n",
       "      <th>state_province</th>\n",
       "      <th>name</th>\n",
       "      <th>country</th>\n",
       "      <th>web_pages</th>\n",
       "      <th>alpha_two_code</th>\n",
       "    </tr>\n",
       "  </thead>\n",
       "  <tbody>\n",
       "    <tr>\n",
       "      <th>0</th>\n",
       "      <td>NaN</td>\n",
       "      <td>Marywood University</td>\n",
       "      <td>United States</td>\n",
       "      <td>http://www.marywood.edu</td>\n",
       "      <td>US</td>\n",
       "    </tr>\n",
       "    <tr>\n",
       "      <th>1</th>\n",
       "      <td>NaN</td>\n",
       "      <td>Lindenwood University</td>\n",
       "      <td>United States</td>\n",
       "      <td>http://www.lindenwood.edu/</td>\n",
       "      <td>US</td>\n",
       "    </tr>\n",
       "    <tr>\n",
       "      <th>2</th>\n",
       "      <td>NaN</td>\n",
       "      <td>Sullivan University</td>\n",
       "      <td>United States</td>\n",
       "      <td>https://sullivan.edu/</td>\n",
       "      <td>US</td>\n",
       "    </tr>\n",
       "    <tr>\n",
       "      <th>3</th>\n",
       "      <td>NaN</td>\n",
       "      <td>Florida State College at Jacksonville</td>\n",
       "      <td>United States</td>\n",
       "      <td>https://www.fscj.edu/</td>\n",
       "      <td>US</td>\n",
       "    </tr>\n",
       "    <tr>\n",
       "      <th>4</th>\n",
       "      <td>NaN</td>\n",
       "      <td>Xavier University</td>\n",
       "      <td>United States</td>\n",
       "      <td>https://www.xavier.edu/</td>\n",
       "      <td>US</td>\n",
       "    </tr>\n",
       "    <tr>\n",
       "      <th>...</th>\n",
       "      <td>...</td>\n",
       "      <td>...</td>\n",
       "      <td>...</td>\n",
       "      <td>...</td>\n",
       "      <td>...</td>\n",
       "    </tr>\n",
       "    <tr>\n",
       "      <th>2276</th>\n",
       "      <td>NaN</td>\n",
       "      <td>Virginia University of Lynchburg</td>\n",
       "      <td>United States</td>\n",
       "      <td>https://www.vul.edu/</td>\n",
       "      <td>US</td>\n",
       "    </tr>\n",
       "    <tr>\n",
       "      <th>2277</th>\n",
       "      <td>NaN</td>\n",
       "      <td>Voorhees University</td>\n",
       "      <td>United States</td>\n",
       "      <td>https://www.voorhees.edu/</td>\n",
       "      <td>US</td>\n",
       "    </tr>\n",
       "    <tr>\n",
       "      <th>2278</th>\n",
       "      <td>NaN</td>\n",
       "      <td>West Virginia State University</td>\n",
       "      <td>United States</td>\n",
       "      <td>https://www.wvstateu.edu/</td>\n",
       "      <td>US</td>\n",
       "    </tr>\n",
       "    <tr>\n",
       "      <th>2279</th>\n",
       "      <td>NaN</td>\n",
       "      <td>Wiley College</td>\n",
       "      <td>United States</td>\n",
       "      <td>https://www.wileyc.edu/</td>\n",
       "      <td>US</td>\n",
       "    </tr>\n",
       "    <tr>\n",
       "      <th>2280</th>\n",
       "      <td>NaN</td>\n",
       "      <td>Winston-Salem State University</td>\n",
       "      <td>United States</td>\n",
       "      <td>https://www.wssu.edu/</td>\n",
       "      <td>US</td>\n",
       "    </tr>\n",
       "  </tbody>\n",
       "</table>\n",
       "<p>2270 rows × 5 columns</p>\n",
       "</div>"
      ],
      "text/plain": [
       "     state_province                                   name        country  \\\n",
       "0               NaN                    Marywood University  United States   \n",
       "1               NaN                  Lindenwood University  United States   \n",
       "2               NaN                    Sullivan University  United States   \n",
       "3               NaN  Florida State College at Jacksonville  United States   \n",
       "4               NaN                      Xavier University  United States   \n",
       "...             ...                                    ...            ...   \n",
       "2276            NaN       Virginia University of Lynchburg  United States   \n",
       "2277            NaN                    Voorhees University  United States   \n",
       "2278            NaN         West Virginia State University  United States   \n",
       "2279            NaN                          Wiley College  United States   \n",
       "2280            NaN         Winston-Salem State University  United States   \n",
       "\n",
       "                       web_pages alpha_two_code  \n",
       "0        http://www.marywood.edu             US  \n",
       "1     http://www.lindenwood.edu/             US  \n",
       "2          https://sullivan.edu/             US  \n",
       "3          https://www.fscj.edu/             US  \n",
       "4        https://www.xavier.edu/             US  \n",
       "...                          ...            ...  \n",
       "2276        https://www.vul.edu/             US  \n",
       "2277   https://www.voorhees.edu/             US  \n",
       "2278   https://www.wvstateu.edu/             US  \n",
       "2279     https://www.wileyc.edu/             US  \n",
       "2280       https://www.wssu.edu/             US  \n",
       "\n",
       "[2270 rows x 5 columns]"
      ]
     },
     "execution_count": 23,
     "metadata": {},
     "output_type": "execute_result"
    },
    {
     "data": {
      "text/plain": [
       "array([nan, 'Pennsylvania', 'NV', 'Iowa', 'VA', 'TX', 'Colorado', 'IN',\n",
       "       'CA', 'South Carolina', 'Washington', 'NY', 'Texas', 'ND', 'MI',\n",
       "       'Ohio', 'Florida', 'California', 'North Carolina', 'Michigan',\n",
       "       'GA', 'New York, NY'], dtype=object)"
      ]
     },
     "execution_count": 23,
     "metadata": {},
     "output_type": "execute_result"
    }
   ],
   "source": [
    "reemplazar_nones(df_eeuu)\n",
    "df_eeuu['state_province'].unique()"
   ]
  },
  {
   "cell_type": "code",
   "execution_count": 24,
   "metadata": {},
   "outputs": [
    {
     "data": {
      "text/html": [
       "<div>\n",
       "<style scoped>\n",
       "    .dataframe tbody tr th:only-of-type {\n",
       "        vertical-align: middle;\n",
       "    }\n",
       "\n",
       "    .dataframe tbody tr th {\n",
       "        vertical-align: top;\n",
       "    }\n",
       "\n",
       "    .dataframe thead th {\n",
       "        text-align: right;\n",
       "    }\n",
       "</style>\n",
       "<table border=\"1\" class=\"dataframe\">\n",
       "  <thead>\n",
       "    <tr style=\"text-align: right;\">\n",
       "      <th></th>\n",
       "      <th>state_province</th>\n",
       "      <th>name</th>\n",
       "      <th>country</th>\n",
       "      <th>web_pages</th>\n",
       "      <th>alpha_two_code</th>\n",
       "    </tr>\n",
       "  </thead>\n",
       "  <tbody>\n",
       "    <tr>\n",
       "      <th>0</th>\n",
       "      <td>Quebec</td>\n",
       "      <td>Cégep de Saint-Jérôme</td>\n",
       "      <td>Canada</td>\n",
       "      <td>https://www.cstj.qc.ca</td>\n",
       "      <td>CA</td>\n",
       "    </tr>\n",
       "    <tr>\n",
       "      <th>1</th>\n",
       "      <td>Ontario</td>\n",
       "      <td>Lambton College</td>\n",
       "      <td>Canada</td>\n",
       "      <td>https://www.lambtoncollege.ca</td>\n",
       "      <td>CA</td>\n",
       "    </tr>\n",
       "    <tr>\n",
       "      <th>2</th>\n",
       "      <td>Nova Scotia</td>\n",
       "      <td>Acadia University</td>\n",
       "      <td>Canada</td>\n",
       "      <td>http://www.acadiau.ca/</td>\n",
       "      <td>CA</td>\n",
       "    </tr>\n",
       "    <tr>\n",
       "      <th>3</th>\n",
       "      <td>Ontario</td>\n",
       "      <td>Algonquin College</td>\n",
       "      <td>Canada</td>\n",
       "      <td>http://www.algonquincollege.com/</td>\n",
       "      <td>CA</td>\n",
       "    </tr>\n",
       "    <tr>\n",
       "      <th>4</th>\n",
       "      <td>British Columbia</td>\n",
       "      <td>Ashton College</td>\n",
       "      <td>Canada</td>\n",
       "      <td>http://www.ashtoncollege.com/</td>\n",
       "      <td>CA</td>\n",
       "    </tr>\n",
       "    <tr>\n",
       "      <th>...</th>\n",
       "      <td>...</td>\n",
       "      <td>...</td>\n",
       "      <td>...</td>\n",
       "      <td>...</td>\n",
       "      <td>...</td>\n",
       "    </tr>\n",
       "    <tr>\n",
       "      <th>149</th>\n",
       "      <td>Ontario</td>\n",
       "      <td>Fanshawe College</td>\n",
       "      <td>Canada</td>\n",
       "      <td>https://www.fanshawec.ca/</td>\n",
       "      <td>CA</td>\n",
       "    </tr>\n",
       "    <tr>\n",
       "      <th>150</th>\n",
       "      <td>Quebec</td>\n",
       "      <td>Vanier College</td>\n",
       "      <td>Canada</td>\n",
       "      <td>https://www.vaniercollege.qc.ca/</td>\n",
       "      <td>CA</td>\n",
       "    </tr>\n",
       "    <tr>\n",
       "      <th>151</th>\n",
       "      <td>Ontario</td>\n",
       "      <td>Ontario Tech University</td>\n",
       "      <td>Canada</td>\n",
       "      <td>https://ontariotechu.ca/</td>\n",
       "      <td>CA</td>\n",
       "    </tr>\n",
       "    <tr>\n",
       "      <th>152</th>\n",
       "      <td>Ontario</td>\n",
       "      <td>Toronto Metropolitan University</td>\n",
       "      <td>Canada</td>\n",
       "      <td>https://www.torontomu.ca/</td>\n",
       "      <td>CA</td>\n",
       "    </tr>\n",
       "    <tr>\n",
       "      <th>153</th>\n",
       "      <td>Quebec</td>\n",
       "      <td>Collège Universel Gatineau</td>\n",
       "      <td>Canada</td>\n",
       "      <td>https://collegeuniversel.ca/</td>\n",
       "      <td>CA</td>\n",
       "    </tr>\n",
       "  </tbody>\n",
       "</table>\n",
       "<p>154 rows × 5 columns</p>\n",
       "</div>"
      ],
      "text/plain": [
       "       state_province                             name country  \\\n",
       "0              Quebec            Cégep de Saint-Jérôme  Canada   \n",
       "1             Ontario                  Lambton College  Canada   \n",
       "2         Nova Scotia                Acadia University  Canada   \n",
       "3             Ontario                Algonquin College  Canada   \n",
       "4    British Columbia                   Ashton College  Canada   \n",
       "..                ...                              ...     ...   \n",
       "149           Ontario                 Fanshawe College  Canada   \n",
       "150            Quebec                   Vanier College  Canada   \n",
       "151           Ontario          Ontario Tech University  Canada   \n",
       "152           Ontario  Toronto Metropolitan University  Canada   \n",
       "153            Quebec       Collège Universel Gatineau  Canada   \n",
       "\n",
       "                            web_pages alpha_two_code  \n",
       "0              https://www.cstj.qc.ca             CA  \n",
       "1       https://www.lambtoncollege.ca             CA  \n",
       "2              http://www.acadiau.ca/             CA  \n",
       "3    http://www.algonquincollege.com/             CA  \n",
       "4       http://www.ashtoncollege.com/             CA  \n",
       "..                                ...            ...  \n",
       "149         https://www.fanshawec.ca/             CA  \n",
       "150  https://www.vaniercollege.qc.ca/             CA  \n",
       "151          https://ontariotechu.ca/             CA  \n",
       "152         https://www.torontomu.ca/             CA  \n",
       "153      https://collegeuniversel.ca/             CA  \n",
       "\n",
       "[154 rows x 5 columns]"
      ]
     },
     "execution_count": 24,
     "metadata": {},
     "output_type": "execute_result"
    },
    {
     "data": {
      "text/plain": [
       "array(['Quebec', 'Ontario', 'Nova Scotia', 'British Columbia', 'Alberta',\n",
       "       'Manitoba', 'New Brunswick', 'Saskatchewan', nan,\n",
       "       'Newfoundland and Labrador', 'Prince Edward Island', 'Yukon'],\n",
       "      dtype=object)"
      ]
     },
     "execution_count": 24,
     "metadata": {},
     "output_type": "execute_result"
    }
   ],
   "source": [
    "reemplazar_nones(df_canada)\n",
    "df_canada['state_province'].unique()"
   ]
  },
  {
   "cell_type": "code",
   "execution_count": 25,
   "metadata": {},
   "outputs": [
    {
     "data": {
      "text/html": [
       "<div>\n",
       "<style scoped>\n",
       "    .dataframe tbody tr th:only-of-type {\n",
       "        vertical-align: middle;\n",
       "    }\n",
       "\n",
       "    .dataframe tbody tr th {\n",
       "        vertical-align: top;\n",
       "    }\n",
       "\n",
       "    .dataframe thead th {\n",
       "        text-align: right;\n",
       "    }\n",
       "</style>\n",
       "<table border=\"1\" class=\"dataframe\">\n",
       "  <thead>\n",
       "    <tr style=\"text-align: right;\">\n",
       "      <th></th>\n",
       "      <th>state_province</th>\n",
       "      <th>name</th>\n",
       "      <th>country</th>\n",
       "      <th>web_pages</th>\n",
       "      <th>alpha_two_code</th>\n",
       "    </tr>\n",
       "  </thead>\n",
       "  <tbody>\n",
       "    <tr>\n",
       "      <th>0</th>\n",
       "      <td>Buenos Aires</td>\n",
       "      <td>Universidad Atlantida Argentina</td>\n",
       "      <td>Argentina</td>\n",
       "      <td>http://www.atlantida.edu.ar/</td>\n",
       "      <td>AR</td>\n",
       "    </tr>\n",
       "    <tr>\n",
       "      <th>1</th>\n",
       "      <td>Buenos Aires</td>\n",
       "      <td>Universidad Austral Buenos Aires</td>\n",
       "      <td>Argentina</td>\n",
       "      <td>http://www.austral.edu.ar/</td>\n",
       "      <td>AR</td>\n",
       "    </tr>\n",
       "    <tr>\n",
       "      <th>2</th>\n",
       "      <td>Ciudad Autónoma de Buenos Aires</td>\n",
       "      <td>Universidad CAECE, Buenos Aires</td>\n",
       "      <td>Argentina</td>\n",
       "      <td>http://www.caece.edu.ar/</td>\n",
       "      <td>AR</td>\n",
       "    </tr>\n",
       "    <tr>\n",
       "      <th>3</th>\n",
       "      <td>Ciudad Autónoma de Buenos Aires</td>\n",
       "      <td>Instituto Universitario CEMA</td>\n",
       "      <td>Argentina</td>\n",
       "      <td>http://www.cema.edu.ar/</td>\n",
       "      <td>AR</td>\n",
       "    </tr>\n",
       "    <tr>\n",
       "      <th>4</th>\n",
       "      <td>Ciudad Autónoma de Buenos Aires</td>\n",
       "      <td>Instituto de Enseñanza Superior del Ejército</td>\n",
       "      <td>Argentina</td>\n",
       "      <td>http://www.iese.edu.ar/</td>\n",
       "      <td>AR</td>\n",
       "    </tr>\n",
       "    <tr>\n",
       "      <th>...</th>\n",
       "      <td>...</td>\n",
       "      <td>...</td>\n",
       "      <td>...</td>\n",
       "      <td>...</td>\n",
       "      <td>...</td>\n",
       "    </tr>\n",
       "    <tr>\n",
       "      <th>82</th>\n",
       "      <td>Buenos Aires</td>\n",
       "      <td>Universidad Nacional de Tres de Febrero</td>\n",
       "      <td>Argentina</td>\n",
       "      <td>http://www.untref.edu.ar/</td>\n",
       "      <td>AR</td>\n",
       "    </tr>\n",
       "    <tr>\n",
       "      <th>83</th>\n",
       "      <td>Ciudad Autónoma de Buenos Aires</td>\n",
       "      <td>Universidad Torcuato di Tella</td>\n",
       "      <td>Argentina</td>\n",
       "      <td>http://www.utdt.edu/</td>\n",
       "      <td>AR</td>\n",
       "    </tr>\n",
       "    <tr>\n",
       "      <th>84</th>\n",
       "      <td>Ciudad Autónoma de Buenos Aires</td>\n",
       "      <td>Universidad Tecnológica Nacional</td>\n",
       "      <td>Argentina</td>\n",
       "      <td>http://www.utn.edu.ar/</td>\n",
       "      <td>AR</td>\n",
       "    </tr>\n",
       "    <tr>\n",
       "      <th>85</th>\n",
       "      <td>Ciudad Autónoma de Buenos Aires</td>\n",
       "      <td>Universidad Abierta Interamericana</td>\n",
       "      <td>Argentina</td>\n",
       "      <td>http://www.vaneduc.edu.ar/uai/</td>\n",
       "      <td>AR</td>\n",
       "    </tr>\n",
       "    <tr>\n",
       "      <th>86</th>\n",
       "      <td>NaN</td>\n",
       "      <td>Universidad Nacional de Villa María</td>\n",
       "      <td>Argentina</td>\n",
       "      <td>http://webs.satlink.com/usuarios/i/iiunvm/</td>\n",
       "      <td>AR</td>\n",
       "    </tr>\n",
       "  </tbody>\n",
       "</table>\n",
       "<p>87 rows × 5 columns</p>\n",
       "</div>"
      ],
      "text/plain": [
       "                     state_province  \\\n",
       "0                      Buenos Aires   \n",
       "1                      Buenos Aires   \n",
       "2   Ciudad Autónoma de Buenos Aires   \n",
       "3   Ciudad Autónoma de Buenos Aires   \n",
       "4   Ciudad Autónoma de Buenos Aires   \n",
       "..                              ...   \n",
       "82                     Buenos Aires   \n",
       "83  Ciudad Autónoma de Buenos Aires   \n",
       "84  Ciudad Autónoma de Buenos Aires   \n",
       "85  Ciudad Autónoma de Buenos Aires   \n",
       "86                              NaN   \n",
       "\n",
       "                                            name    country  \\\n",
       "0                Universidad Atlantida Argentina  Argentina   \n",
       "1               Universidad Austral Buenos Aires  Argentina   \n",
       "2                Universidad CAECE, Buenos Aires  Argentina   \n",
       "3                   Instituto Universitario CEMA  Argentina   \n",
       "4   Instituto de Enseñanza Superior del Ejército  Argentina   \n",
       "..                                           ...        ...   \n",
       "82       Universidad Nacional de Tres de Febrero  Argentina   \n",
       "83                 Universidad Torcuato di Tella  Argentina   \n",
       "84              Universidad Tecnológica Nacional  Argentina   \n",
       "85            Universidad Abierta Interamericana  Argentina   \n",
       "86           Universidad Nacional de Villa María  Argentina   \n",
       "\n",
       "                                     web_pages alpha_two_code  \n",
       "0                 http://www.atlantida.edu.ar/             AR  \n",
       "1                   http://www.austral.edu.ar/             AR  \n",
       "2                     http://www.caece.edu.ar/             AR  \n",
       "3                      http://www.cema.edu.ar/             AR  \n",
       "4                      http://www.iese.edu.ar/             AR  \n",
       "..                                         ...            ...  \n",
       "82                   http://www.untref.edu.ar/             AR  \n",
       "83                        http://www.utdt.edu/             AR  \n",
       "84                      http://www.utn.edu.ar/             AR  \n",
       "85              http://www.vaneduc.edu.ar/uai/             AR  \n",
       "86  http://webs.satlink.com/usuarios/i/iiunvm/             AR  \n",
       "\n",
       "[87 rows x 5 columns]"
      ]
     },
     "execution_count": 25,
     "metadata": {},
     "output_type": "execute_result"
    },
    {
     "data": {
      "text/plain": [
       "array(['Buenos Aires', 'Ciudad Autónoma de Buenos Aires', 'Entre Ríos',\n",
       "       'Salta', 'Córdoba', 'Mendoza', 'Santa Fé', nan,\n",
       "       'Santiago Del Estero', 'Misiones', 'Catamarca', 'Formosa', 'Jujuy',\n",
       "       'La Rioja', 'La Pampa', 'San Juan', 'San Luis', 'Tucumán'],\n",
       "      dtype=object)"
      ]
     },
     "execution_count": 25,
     "metadata": {},
     "output_type": "execute_result"
    }
   ],
   "source": [
    "reemplazar_nones(df_argentina)\n",
    "df_argentina['state_province'].unique()"
   ]
  },
  {
   "attachments": {},
   "cell_type": "markdown",
   "metadata": {},
   "source": [
    "6. Después del último cambio, os habréis dado cuenta que tenemos muchos valores nulos dentro de la columna de state_province, por lo que nuestro jefe nos pide que reemplacemos esos nulos por \"Unknow\". No nos piden ningún método especifico, asi que podremos usar el método que queramos."
   ]
  },
  {
   "cell_type": "code",
   "execution_count": 26,
   "metadata": {},
   "outputs": [],
   "source": [
    "df_eeuu['state_province'].replace(np.nan, 'Unknow', inplace=True)"
   ]
  },
  {
   "cell_type": "code",
   "execution_count": 27,
   "metadata": {},
   "outputs": [],
   "source": [
    "df_canada['state_province'].replace(np.nan, 'Unknow', inplace=True)"
   ]
  },
  {
   "cell_type": "code",
   "execution_count": 28,
   "metadata": {},
   "outputs": [],
   "source": [
    "df_argentina['state_province'].replace(np.nan, 'Unknow', inplace=True)"
   ]
  },
  {
   "attachments": {},
   "cell_type": "markdown",
   "metadata": {},
   "source": [
    "7. Ahora nuestros jefes nos piden que saquemos las coordenadas de las provincias donde están ubicadas las universidades. \n",
    "Para eso nos piden que usemos la librería de geopy que aprendimos el día del repaso, aquí la documentación. Para desarrollar este ejercicio deberéis:\n",
    "- Sacar los valores únicos de la columna state_province."
   ]
  },
  {
   "cell_type": "code",
   "execution_count": 29,
   "metadata": {},
   "outputs": [
    {
     "data": {
      "text/plain": [
       "array(['Unknow', 'Pennsylvania', 'NV', 'Iowa', 'VA', 'TX', 'Colorado',\n",
       "       'IN', 'CA', 'South Carolina', 'Washington', 'NY', 'Texas', 'ND',\n",
       "       'MI', 'Ohio', 'Florida', 'California', 'North Carolina',\n",
       "       'Michigan', 'GA', 'New York, NY'], dtype=object)"
      ]
     },
     "metadata": {},
     "output_type": "display_data"
    },
    {
     "data": {
      "text/plain": [
       "array(['Quebec', 'Ontario', 'Nova Scotia', 'British Columbia', 'Alberta',\n",
       "       'Manitoba', 'New Brunswick', 'Saskatchewan', 'Unknow',\n",
       "       'Newfoundland and Labrador', 'Prince Edward Island', 'Yukon'],\n",
       "      dtype=object)"
      ]
     },
     "metadata": {},
     "output_type": "display_data"
    },
    {
     "data": {
      "text/plain": [
       "array(['Buenos Aires', 'Ciudad Autónoma de Buenos Aires', 'Entre Ríos',\n",
       "       'Salta', 'Córdoba', 'Mendoza', 'Santa Fé', 'Unknow',\n",
       "       'Santiago Del Estero', 'Misiones', 'Catamarca', 'Formosa', 'Jujuy',\n",
       "       'La Rioja', 'La Pampa', 'San Juan', 'San Luis', 'Tucumán'],\n",
       "      dtype=object)"
      ]
     },
     "metadata": {},
     "output_type": "display_data"
    }
   ],
   "source": [
    "display(df_eeuu['state_province'].unique())\n",
    "display(df_canada['state_province'].unique())\n",
    "display(df_argentina['state_province'].unique())"
   ]
  },
  {
   "cell_type": "markdown",
   "metadata": {},
   "source": [
    "- NV: reemplazalo por Nevada\n",
    "- TX: reemplazalo por Texas\n",
    "- IN: reemplazalo por Indianapolis\n",
    "- CA: reemplazalo por California\n",
    "- VA: reemplazalo por Virginia\n",
    "- NY: reemplazalo por New York\n",
    "- MI: reemplazalo por Michigan\n",
    "- GA: reemplazalo por Georgia\n",
    "- ND: reemplazalo por North Dakota"
   ]
  },
  {
   "cell_type": "code",
   "execution_count": 31,
   "metadata": {},
   "outputs": [],
   "source": [
    "dicc= {'Unknow': 'Unknow', 'Pennsylvania':'Pennsylvania', 'NV':'Nevada', 'Iowa':'Iowa', 'VA': 'Virginia', 'TX':'Texas', 'Colorado':'Colorado',\n",
    "       'IN': 'Indianapolis', 'CA':'California', 'South Carolina':'South Carolina', 'Washington':'Washington', 'NY': 'New York', 'Texas':'Texas', \n",
    "       'ND': 'North Dakota','MI':'Michigan', 'Ohio':'Ohio', 'Florida':'Florida', 'California':'California', 'North Carolina':'North Carolina',\n",
    "       'Michigan':'Michigan', 'GA': 'Georgia', 'New York, NY':'New York'}"
   ]
  },
  {
   "cell_type": "code",
   "execution_count": 32,
   "metadata": {},
   "outputs": [],
   "source": [
    "df_eeuu[\"state_province\"] = df_eeuu[\"state_province\"].map(dicc, na_action=\"ignore\")"
   ]
  },
  {
   "cell_type": "code",
   "execution_count": 33,
   "metadata": {},
   "outputs": [
    {
     "data": {
      "text/plain": [
       "array(['Unknow', 'Pennsylvania', 'Nevada', 'Iowa', 'Virginia', 'Texas',\n",
       "       'Colorado', 'Indianapolis', 'California', 'South Carolina',\n",
       "       'Washington', 'New York', 'North Dakota', 'Michigan', 'Ohio',\n",
       "       'Florida', 'North Carolina', 'Georgia'], dtype=object)"
      ]
     },
     "execution_count": 33,
     "metadata": {},
     "output_type": "execute_result"
    }
   ],
   "source": [
    "df_eeuu['state_province'].unique()"
   ]
  },
  {
   "cell_type": "code",
   "execution_count": 34,
   "metadata": {},
   "outputs": [],
   "source": [
    "#df_eeuu['state_province'].replace('NV', 'Nevada', inplace= True)"
   ]
  },
  {
   "attachments": {},
   "cell_type": "markdown",
   "metadata": {},
   "source": [
    "- Otros valores que tenemos más formateados son y que deberemos reemplazar:\n",
    "\n",
    "    -New York, NY. Deberéis reemplazarlo por \"New York\".\n",
    "\n",
    "    -'Buenos Aires', 'Ciudad Autónoma de Buenos Aires'. En este caso deberéis poner en ambos casos \"Buenos Aires\"\n"
   ]
  },
  {
   "cell_type": "code",
   "execution_count": 39,
   "metadata": {},
   "outputs": [],
   "source": [
    "dicc2 = {'Buenos Aires':'Buenos Aires', 'Ciudad Autónoma de Buenos Aires':'Buenos Aires', 'Entre Ríos':'Entre Ríos',\n",
    "       'Salta':'Salta', 'Córdoba':'Córdoba', 'Mendoza':'Mendoza', 'Santa Fé':'Santa Fé', 'Unknow':'Unknow',\n",
    "       'Santiago Del Estero':'Santiago Del Estero', 'Misiones':'Misiones', 'Catamarca':'Catamarca', 'Formosa':'Formosa', 'Jujuy':'Jujuy',\n",
    "       'La Rioja':'La Rioja', 'La Pampa':'La Pampa', 'San Juan':'San Juan', 'San Luis':'San Luis', 'Tucumán':'Tucumán'}"
   ]
  },
  {
   "cell_type": "code",
   "execution_count": 40,
   "metadata": {},
   "outputs": [],
   "source": [
    "df_argentina[\"state_province\"] = df_argentina[\"state_province\"].map(dicc2, na_action=\"ignore\")"
   ]
  },
  {
   "cell_type": "code",
   "execution_count": 41,
   "metadata": {},
   "outputs": [
    {
     "data": {
      "text/plain": [
       "array(['Buenos Aires', 'Entre Ríos', 'Salta', 'Córdoba', 'Mendoza',\n",
       "       'Santa Fé', 'Unknow', 'Santiago Del Estero', 'Misiones',\n",
       "       'Catamarca', 'Formosa', 'Jujuy', 'La Rioja', 'La Pampa',\n",
       "       'San Juan', 'San Luis', 'Tucumán'], dtype=object)"
      ]
     },
     "execution_count": 41,
     "metadata": {},
     "output_type": "execute_result"
    }
   ],
   "source": [
    "df_argentina['state_province'].unique()"
   ]
  },
  {
   "attachments": {},
   "cell_type": "markdown",
   "metadata": {},
   "source": [
    "- Una vez realizados los pasos anteriores, crea una lista con los valores únicos de las provincias de las universidades."
   ]
  },
  {
   "cell_type": "code",
   "execution_count": 42,
   "metadata": {},
   "outputs": [],
   "source": [
    "prov_eeuu = df_eeuu['state_province'].unique()\n",
    "prov_canada = df_canada['state_province'].unique()\n",
    "prov_argentina = df_argentina['state_province'].unique()"
   ]
  },
  {
   "cell_type": "code",
   "execution_count": 48,
   "metadata": {},
   "outputs": [
    {
     "data": {
      "text/plain": [
       "['Unknow',\n",
       " 'Pennsylvania',\n",
       " 'Nevada',\n",
       " 'Iowa',\n",
       " 'Virginia',\n",
       " 'Texas',\n",
       " 'Colorado',\n",
       " 'Indianapolis',\n",
       " 'California',\n",
       " 'South Carolina',\n",
       " 'Washington',\n",
       " 'New York',\n",
       " 'North Dakota',\n",
       " 'Michigan',\n",
       " 'Ohio',\n",
       " 'Florida',\n",
       " 'North Carolina',\n",
       " 'Georgia',\n",
       " 'Quebec',\n",
       " 'Ontario',\n",
       " 'Nova Scotia',\n",
       " 'British Columbia',\n",
       " 'Alberta',\n",
       " 'Manitoba',\n",
       " 'New Brunswick',\n",
       " 'Saskatchewan',\n",
       " 'Unknow',\n",
       " 'Newfoundland and Labrador',\n",
       " 'Prince Edward Island',\n",
       " 'Yukon',\n",
       " 'Buenos Aires',\n",
       " 'Entre Ríos',\n",
       " 'Salta',\n",
       " 'Córdoba',\n",
       " 'Mendoza',\n",
       " 'Santa Fé',\n",
       " 'Unknow',\n",
       " 'Santiago Del Estero',\n",
       " 'Misiones',\n",
       " 'Catamarca',\n",
       " 'Formosa',\n",
       " 'Jujuy',\n",
       " 'La Rioja',\n",
       " 'La Pampa',\n",
       " 'San Juan',\n",
       " 'San Luis',\n",
       " 'Tucumán']"
      ]
     },
     "execution_count": 48,
     "metadata": {},
     "output_type": "execute_result"
    }
   ],
   "source": [
    "prov_universidades = list(prov_eeuu) + list(prov_canada) + list(prov_argentina)\n",
    "\n",
    "prov_universidades"
   ]
  },
  {
   "cell_type": "code",
   "execution_count": 52,
   "metadata": {},
   "outputs": [
    {
     "data": {
      "text/plain": [
       "array(['Unknow', 'Pennsylvania', 'Nevada', 'Iowa', 'Virginia', 'Texas',\n",
       "       'Colorado', 'Indianapolis', 'California', 'South Carolina',\n",
       "       'Washington', 'New York', 'North Dakota', 'Michigan', 'Ohio',\n",
       "       'Florida', 'North Carolina', 'Georgia', 'Quebec', 'Ontario',\n",
       "       'Nova Scotia', 'British Columbia', 'Alberta', 'Manitoba',\n",
       "       'New Brunswick', 'Saskatchewan', 'Newfoundland and Labrador',\n",
       "       'Prince Edward Island', 'Yukon', 'Buenos Aires', 'Entre Ríos',\n",
       "       'Salta', 'Córdoba', 'Mendoza', 'Santa Fé', 'Santiago Del Estero',\n",
       "       'Misiones', 'Catamarca', 'Formosa', 'Jujuy', 'La Rioja',\n",
       "       'La Pampa', 'San Juan', 'San Luis', 'Tucumán'], dtype=object)"
      ]
     },
     "execution_count": 52,
     "metadata": {},
     "output_type": "execute_result"
    }
   ],
   "source": [
    "# despues hacer los reemplazos unimos los df para sacar el resto de datos\n",
    "\n",
    "df_paises = pd.concat([df_eeuu, df_canada, df_argentina], axis = 0, join= 'outer')\n",
    "df_paises['state_province'].unique()"
   ]
  },
  {
   "cell_type": "markdown",
   "metadata": {},
   "source": [
    "\n",
    "- Usando la API de geopy, extraed la latitud y la longitud de cada una de las provincias y almacenad los resultados en un dataframe.\n",
    "\n",
    "Una vez que tengáis los datos del ejercicio anterior en un dataframe, unidlo con el de las universidades que hemos sacado de la API."
   ]
  },
  {
   "cell_type": "code",
   "execution_count": 36,
   "metadata": {},
   "outputs": [],
   "source": [
    "#merge on "
   ]
  }
 ],
 "metadata": {
  "kernelspec": {
   "display_name": "Python 3",
   "language": "python",
   "name": "python3"
  },
  "language_info": {
   "codemirror_mode": {
    "name": "ipython",
    "version": 3
   },
   "file_extension": ".py",
   "mimetype": "text/x-python",
   "name": "python",
   "nbconvert_exporter": "python",
   "pygments_lexer": "ipython3",
   "version": "3.10.11"
  },
  "orig_nbformat": 4
 },
 "nbformat": 4,
 "nbformat_minor": 2
}
